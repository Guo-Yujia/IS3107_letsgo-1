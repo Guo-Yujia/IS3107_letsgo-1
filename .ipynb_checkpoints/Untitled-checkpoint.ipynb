{
 "cells": [
  {
   "cell_type": "code",
   "execution_count": 8,
   "id": "4677d44b",
   "metadata": {
    "ExecuteTime": {
     "end_time": "2023-02-09T06:34:40.164209Z",
     "start_time": "2023-02-09T06:34:40.098931Z"
    }
   },
   "outputs": [],
   "source": [
    "import numpy as np\n",
    "import pandas as pd\n",
    "import matplotlib.pyplot as plt\n",
    "import seaborn as sns"
   ]
  },
  {
   "cell_type": "code",
   "execution_count": 1,
   "id": "954d3247",
   "metadata": {
    "ExecuteTime": {
     "end_time": "2023-02-09T06:31:33.790987Z",
     "start_time": "2023-02-09T06:30:56.136026Z"
    }
   },
   "outputs": [
    {
     "name": "stderr",
     "output_type": "stream",
     "text": [
      "/Users/yco/opt/anaconda3/envs/IS3107/lib/python3.9/site-packages/tqdm/auto.py:22: TqdmWarning: IProgress not found. Please update jupyter and ipywidgets. See https://ipywidgets.readthedocs.io/en/stable/user_install.html\n",
      "  from .autonotebook import tqdm as notebook_tqdm\n"
     ]
    },
    {
     "name": "stdout",
     "output_type": "stream",
     "text": [
      "Downloading and preparing dataset amazon_us_reviews/Personal_Care_Appliances_v1_00 to /Users/yco/.cache/huggingface/datasets/amazon_us_reviews/Personal_Care_Appliances_v1_00/0.1.0/17b2481be59723469538adeb8fd0a68b0ba363bbbdd71090e72c325ee6c7e563...\n"
     ]
    },
    {
     "name": "stderr",
     "output_type": "stream",
     "text": [
      "Downloading data: 100%|████████████████████| 17.6M/17.6M [00:15<00:00, 1.11MB/s]\n",
      "                                                                                "
     ]
    },
    {
     "name": "stdout",
     "output_type": "stream",
     "text": [
      "Dataset amazon_us_reviews downloaded and prepared to /Users/yco/.cache/huggingface/datasets/amazon_us_reviews/Personal_Care_Appliances_v1_00/0.1.0/17b2481be59723469538adeb8fd0a68b0ba363bbbdd71090e72c325ee6c7e563. Subsequent calls will reuse this data.\n"
     ]
    },
    {
     "name": "stderr",
     "output_type": "stream",
     "text": [
      "\r"
     ]
    }
   ],
   "source": [
    "from datasets import load_dataset\n",
    "dataset = load_dataset(\"amazon_us_reviews\",\"Personal_Care_Appliances_v1_00\", split=\"train\")"
   ]
  },
  {
   "cell_type": "code",
   "execution_count": 2,
   "id": "85f63f18",
   "metadata": {
    "ExecuteTime": {
     "end_time": "2023-02-09T06:32:32.143852Z",
     "start_time": "2023-02-09T06:32:32.135413Z"
    }
   },
   "outputs": [
    {
     "data": {
      "text/plain": [
       "Dataset({\n",
       "    features: ['marketplace', 'customer_id', 'review_id', 'product_id', 'product_parent', 'product_title', 'product_category', 'star_rating', 'helpful_votes', 'total_votes', 'vine', 'verified_purchase', 'review_headline', 'review_body', 'review_date'],\n",
       "    num_rows: 85981\n",
       "})"
      ]
     },
     "execution_count": 2,
     "metadata": {},
     "output_type": "execute_result"
    }
   ],
   "source": [
    "dataset"
   ]
  },
  {
   "cell_type": "code",
   "execution_count": 9,
   "id": "bf4e69f9",
   "metadata": {
    "ExecuteTime": {
     "end_time": "2023-02-09T06:34:53.255881Z",
     "start_time": "2023-02-09T06:34:43.978273Z"
    }
   },
   "outputs": [],
   "source": [
    "data = pd.DataFrame(dataset)"
   ]
  },
  {
   "cell_type": "code",
   "execution_count": 10,
   "id": "01e4b65d",
   "metadata": {
    "ExecuteTime": {
     "end_time": "2023-02-09T06:34:56.493253Z",
     "start_time": "2023-02-09T06:34:56.468875Z"
    }
   },
   "outputs": [
    {
     "data": {
      "text/html": [
       "<div>\n",
       "<style scoped>\n",
       "    .dataframe tbody tr th:only-of-type {\n",
       "        vertical-align: middle;\n",
       "    }\n",
       "\n",
       "    .dataframe tbody tr th {\n",
       "        vertical-align: top;\n",
       "    }\n",
       "\n",
       "    .dataframe thead th {\n",
       "        text-align: right;\n",
       "    }\n",
       "</style>\n",
       "<table border=\"1\" class=\"dataframe\">\n",
       "  <thead>\n",
       "    <tr style=\"text-align: right;\">\n",
       "      <th></th>\n",
       "      <th>marketplace</th>\n",
       "      <th>customer_id</th>\n",
       "      <th>review_id</th>\n",
       "      <th>product_id</th>\n",
       "      <th>product_parent</th>\n",
       "      <th>product_title</th>\n",
       "      <th>product_category</th>\n",
       "      <th>star_rating</th>\n",
       "      <th>helpful_votes</th>\n",
       "      <th>total_votes</th>\n",
       "      <th>vine</th>\n",
       "      <th>verified_purchase</th>\n",
       "      <th>review_headline</th>\n",
       "      <th>review_body</th>\n",
       "      <th>review_date</th>\n",
       "    </tr>\n",
       "  </thead>\n",
       "  <tbody>\n",
       "    <tr>\n",
       "      <th>0</th>\n",
       "      <td>US</td>\n",
       "      <td>32114233</td>\n",
       "      <td>R1QX6706ZWJ1P5</td>\n",
       "      <td>B00OYRW4UE</td>\n",
       "      <td>223980852</td>\n",
       "      <td>Elite Sportz Exercise Sliders are Double Sided...</td>\n",
       "      <td>Personal_Care_Appliances</td>\n",
       "      <td>5</td>\n",
       "      <td>0</td>\n",
       "      <td>0</td>\n",
       "      <td>0</td>\n",
       "      <td>1</td>\n",
       "      <td>Good quality. Shipped</td>\n",
       "      <td>Exactly as described. Good quality. Shipped fast</td>\n",
       "      <td>2015-08-31</td>\n",
       "    </tr>\n",
       "    <tr>\n",
       "      <th>1</th>\n",
       "      <td>US</td>\n",
       "      <td>18125776</td>\n",
       "      <td>R3QWMLJHIW6P37</td>\n",
       "      <td>B0000537JQ</td>\n",
       "      <td>819771537</td>\n",
       "      <td>Ezy Dose Weekly</td>\n",
       "      <td>Personal_Care_Appliances</td>\n",
       "      <td>5</td>\n",
       "      <td>0</td>\n",
       "      <td>0</td>\n",
       "      <td>0</td>\n",
       "      <td>1</td>\n",
       "      <td>Five Stars</td>\n",
       "      <td>It is great</td>\n",
       "      <td>2015-08-31</td>\n",
       "    </tr>\n",
       "    <tr>\n",
       "      <th>2</th>\n",
       "      <td>US</td>\n",
       "      <td>19917519</td>\n",
       "      <td>R14Z1VR1N0Z9G6</td>\n",
       "      <td>B00HXXO332</td>\n",
       "      <td>849307176</td>\n",
       "      <td>Pulse Oximeter, Blood Oxygen Monitor</td>\n",
       "      <td>Personal_Care_Appliances</td>\n",
       "      <td>5</td>\n",
       "      <td>1</td>\n",
       "      <td>1</td>\n",
       "      <td>0</td>\n",
       "      <td>1</td>\n",
       "      <td>It's really nice it works great</td>\n",
       "      <td>It's really nice it works great. You have the ...</td>\n",
       "      <td>2015-08-31</td>\n",
       "    </tr>\n",
       "    <tr>\n",
       "      <th>3</th>\n",
       "      <td>US</td>\n",
       "      <td>18277171</td>\n",
       "      <td>R25ZRJL0GH0U0</td>\n",
       "      <td>B00EOB0JA2</td>\n",
       "      <td>700864740</td>\n",
       "      <td>SE Tools Tool Kit Watch Watch Repair Kit (20 P...</td>\n",
       "      <td>Personal_Care_Appliances</td>\n",
       "      <td>2</td>\n",
       "      <td>0</td>\n",
       "      <td>0</td>\n",
       "      <td>0</td>\n",
       "      <td>1</td>\n",
       "      <td>Two Stars</td>\n",
       "      <td>The kit works fine... simple cheap plastic tho</td>\n",
       "      <td>2015-08-31</td>\n",
       "    </tr>\n",
       "    <tr>\n",
       "      <th>4</th>\n",
       "      <td>US</td>\n",
       "      <td>2593270</td>\n",
       "      <td>R3837KYH7AZNIY</td>\n",
       "      <td>B00OC2O1UC</td>\n",
       "      <td>794298839</td>\n",
       "      <td>doTERRA HD Clear Facial Kit - Facial Lotion, F...</td>\n",
       "      <td>Personal_Care_Appliances</td>\n",
       "      <td>4</td>\n",
       "      <td>0</td>\n",
       "      <td>1</td>\n",
       "      <td>0</td>\n",
       "      <td>1</td>\n",
       "      <td>Four Stars</td>\n",
       "      <td>It works better than anything else ive tried</td>\n",
       "      <td>2015-08-31</td>\n",
       "    </tr>\n",
       "  </tbody>\n",
       "</table>\n",
       "</div>"
      ],
      "text/plain": [
       "  marketplace customer_id       review_id  product_id product_parent  \\\n",
       "0          US    32114233  R1QX6706ZWJ1P5  B00OYRW4UE      223980852   \n",
       "1          US    18125776  R3QWMLJHIW6P37  B0000537JQ      819771537   \n",
       "2          US    19917519  R14Z1VR1N0Z9G6  B00HXXO332      849307176   \n",
       "3          US    18277171   R25ZRJL0GH0U0  B00EOB0JA2      700864740   \n",
       "4          US     2593270  R3837KYH7AZNIY  B00OC2O1UC      794298839   \n",
       "\n",
       "                                       product_title  \\\n",
       "0  Elite Sportz Exercise Sliders are Double Sided...   \n",
       "1                                    Ezy Dose Weekly   \n",
       "2               Pulse Oximeter, Blood Oxygen Monitor   \n",
       "3  SE Tools Tool Kit Watch Watch Repair Kit (20 P...   \n",
       "4  doTERRA HD Clear Facial Kit - Facial Lotion, F...   \n",
       "\n",
       "           product_category  star_rating  helpful_votes  total_votes  vine  \\\n",
       "0  Personal_Care_Appliances            5              0            0     0   \n",
       "1  Personal_Care_Appliances            5              0            0     0   \n",
       "2  Personal_Care_Appliances            5              1            1     0   \n",
       "3  Personal_Care_Appliances            2              0            0     0   \n",
       "4  Personal_Care_Appliances            4              0            1     0   \n",
       "\n",
       "   verified_purchase                  review_headline  \\\n",
       "0                  1            Good quality. Shipped   \n",
       "1                  1                       Five Stars   \n",
       "2                  1  It's really nice it works great   \n",
       "3                  1                        Two Stars   \n",
       "4                  1                       Four Stars   \n",
       "\n",
       "                                         review_body review_date  \n",
       "0   Exactly as described. Good quality. Shipped fast  2015-08-31  \n",
       "1                                        It is great  2015-08-31  \n",
       "2  It's really nice it works great. You have the ...  2015-08-31  \n",
       "3     The kit works fine... simple cheap plastic tho  2015-08-31  \n",
       "4       It works better than anything else ive tried  2015-08-31  "
      ]
     },
     "execution_count": 10,
     "metadata": {},
     "output_type": "execute_result"
    }
   ],
   "source": [
    "data.head()"
   ]
  },
  {
   "cell_type": "code",
   "execution_count": 13,
   "id": "313f8bd0",
   "metadata": {
    "ExecuteTime": {
     "end_time": "2023-02-09T06:35:55.340479Z",
     "start_time": "2023-02-09T06:35:55.292721Z"
    }
   },
   "outputs": [
    {
     "data": {
      "text/plain": [
       "83067"
      ]
     },
     "execution_count": 13,
     "metadata": {},
     "output_type": "execute_result"
    }
   ],
   "source": [
    "len(data.customer_id.unique()) \n",
    "##< len(data) we have same customer purchase different products or same product with multiple times"
   ]
  },
  {
   "cell_type": "code",
   "execution_count": 14,
   "id": "843d2dd0",
   "metadata": {
    "ExecuteTime": {
     "end_time": "2023-02-09T06:37:43.527330Z",
     "start_time": "2023-02-09T06:37:43.501834Z"
    }
   },
   "outputs": [
    {
     "data": {
      "text/plain": [
       "4696"
      ]
     },
     "execution_count": 14,
     "metadata": {},
     "output_type": "execute_result"
    }
   ],
   "source": [
    "len(data.review_date.unique())"
   ]
  }
 ],
 "metadata": {
  "kernelspec": {
   "display_name": "Python 3 (ipykernel)",
   "language": "python",
   "name": "python3"
  },
  "language_info": {
   "codemirror_mode": {
    "name": "ipython",
    "version": 3
   },
   "file_extension": ".py",
   "mimetype": "text/x-python",
   "name": "python",
   "nbconvert_exporter": "python",
   "pygments_lexer": "ipython3",
   "version": "3.9.16"
  },
  "toc": {
   "base_numbering": 1,
   "nav_menu": {},
   "number_sections": true,
   "sideBar": true,
   "skip_h1_title": false,
   "title_cell": "Table of Contents",
   "title_sidebar": "Contents",
   "toc_cell": false,
   "toc_position": {},
   "toc_section_display": true,
   "toc_window_display": false
  },
  "varInspector": {
   "cols": {
    "lenName": 16,
    "lenType": 16,
    "lenVar": 40
   },
   "kernels_config": {
    "python": {
     "delete_cmd_postfix": "",
     "delete_cmd_prefix": "del ",
     "library": "var_list.py",
     "varRefreshCmd": "print(var_dic_list())"
    },
    "r": {
     "delete_cmd_postfix": ") ",
     "delete_cmd_prefix": "rm(",
     "library": "var_list.r",
     "varRefreshCmd": "cat(var_dic_list()) "
    }
   },
   "types_to_exclude": [
    "module",
    "function",
    "builtin_function_or_method",
    "instance",
    "_Feature"
   ],
   "window_display": false
  }
 },
 "nbformat": 4,
 "nbformat_minor": 5
}
