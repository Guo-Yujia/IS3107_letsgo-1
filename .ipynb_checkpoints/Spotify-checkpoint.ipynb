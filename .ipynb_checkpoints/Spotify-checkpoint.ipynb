{
 "cells": [
  {
   "cell_type": "code",
   "execution_count": 11,
   "id": "4677d44b",
   "metadata": {
    "ExecuteTime": {
     "end_time": "2023-02-09T06:34:40.164209Z",
     "start_time": "2023-02-09T06:34:40.098931Z"
    },
    "scrolled": true
   },
   "outputs": [],
   "source": [
    "import numpy as np\n",
    "import pandas as pd\n",
    "import matplotlib.pyplot as plt\n",
    "import seaborn as sns\n",
    "import json"
   ]
  },
  {
   "cell_type": "code",
   "execution_count": 8,
   "id": "8fcc00b4",
   "metadata": {
    "ExecuteTime": {
     "end_time": "2023-02-12T02:02:32.713566Z",
     "start_time": "2023-02-12T02:02:29.772223Z"
    }
   },
   "outputs": [],
   "source": [
    "#! pip install spotipy"
   ]
  },
  {
   "cell_type": "code",
   "execution_count": 9,
   "id": "6bb1f441",
   "metadata": {
    "ExecuteTime": {
     "end_time": "2023-02-12T02:17:18.151180Z",
     "start_time": "2023-02-12T02:17:18.145719Z"
    }
   },
   "outputs": [],
   "source": [
    "import spotipy\n",
    "from spotipy.oauth2 import SpotifyClientCredentials\n",
    "import requests\n",
    "from spotipy.oauth2 import SpotifyOAuth"
   ]
  },
  {
   "cell_type": "code",
   "execution_count": 1,
   "id": "51ec8a95",
   "metadata": {
    "ExecuteTime": {
     "end_time": "2023-02-12T02:28:20.571328Z",
     "start_time": "2023-02-12T02:28:20.520295Z"
    }
   },
   "outputs": [
    {
     "ename": "NameError",
     "evalue": "name 'json' is not defined",
     "output_type": "error",
     "traceback": [
      "\u001b[1;31m---------------------------------------------------------------------------\u001b[0m",
      "\u001b[1;31mNameError\u001b[0m                                 Traceback (most recent call last)",
      "Cell \u001b[1;32mIn[1], line 1\u001b[0m\n\u001b[1;32m----> 1\u001b[0m credentials \u001b[38;5;241m=\u001b[39m \u001b[43mjson\u001b[49m\u001b[38;5;241m.\u001b[39mload(\u001b[38;5;28mopen\u001b[39m(\u001b[38;5;124m'\u001b[39m\u001b[38;5;124mauthorization.json\u001b[39m\u001b[38;5;124m'\u001b[39m))\n\u001b[0;32m      2\u001b[0m client_id \u001b[38;5;241m=\u001b[39m credentials[\u001b[38;5;124m'\u001b[39m\u001b[38;5;124mclient_id\u001b[39m\u001b[38;5;124m'\u001b[39m]\n\u001b[0;32m      3\u001b[0m client_secret \u001b[38;5;241m=\u001b[39m credentials[\u001b[38;5;124m'\u001b[39m\u001b[38;5;124mclient_secret\u001b[39m\u001b[38;5;124m'\u001b[39m]\n",
      "\u001b[1;31mNameError\u001b[0m: name 'json' is not defined"
     ]
    }
   ],
   "source": [
    "credentials = json.load(open('authorization.json'))\n",
    "client_id = credentials['client_id']\n",
    "client_secret = credentials['client_secret']\n",
    "\n",
    "playlist_index = 0\n",
    "\n",
    "playlists = json.load(open('playlist_like_dislike.json'))\n",
    "playlist_uri = playlists[playlist_index]['uri']\n",
    "like = playlists[playlist_index]['like']"
   ]
  },
  {
   "cell_type": "code",
   "execution_count": 13,
   "id": "192c9877",
   "metadata": {
    "ExecuteTime": {
     "end_time": "2023-02-12T02:28:35.776564Z",
     "start_time": "2023-02-12T02:28:35.701945Z"
    }
   },
   "outputs": [],
   "source": [
    "client_credentials_manager = SpotifyClientCredentials(client_id=client_id,client_secret=client_secret)\n",
    "\n",
    "sp = spotipy.Spotify(client_credentials_manager=client_credentials_manager)"
   ]
  },
  {
   "cell_type": "code",
   "execution_count": 14,
   "id": "9eec8ed6",
   "metadata": {
    "ExecuteTime": {
     "end_time": "2023-02-12T02:30:08.033029Z",
     "start_time": "2023-02-12T02:30:08.017940Z"
    }
   },
   "outputs": [
    {
     "data": {
      "text/plain": [
       "<spotipy.client.Spotify at 0x1e574464f10>"
      ]
     },
     "execution_count": 14,
     "metadata": {},
     "output_type": "execute_result"
    }
   ],
   "source": [
    "sp"
   ]
  },
  {
   "cell_type": "code",
   "execution_count": 15,
   "id": "7d698477",
   "metadata": {
    "ExecuteTime": {
     "end_time": "2023-02-12T02:58:03.867662Z",
     "start_time": "2023-02-12T02:58:03.501511Z"
    }
   },
   "outputs": [],
   "source": [
    "# Playlist:\n",
    "# Top Songs - Global\n",
    "playlist_link = \"https://open.spotify.com/playlist/37i9dQZEVXbNG2KDcFcKOF?si=1333723a6eff4b7f\"\n",
    "playlist_URI1 = playlist_link.split(\"/\")[-1].split(\"?\")[0]\n",
    "track_uris1 = [x[\"track\"][\"uri\"] for x in sp.playlist_tracks(playlist_URI1)[\"items\"]]"
   ]
  },
  {
   "cell_type": "code",
   "execution_count": 16,
   "id": "8f3e5acd",
   "metadata": {
    "ExecuteTime": {
     "end_time": "2023-02-12T02:58:04.942806Z",
     "start_time": "2023-02-12T02:58:04.666931Z"
    }
   },
   "outputs": [],
   "source": [
    "# Playlist:\n",
    "# Top Songs - Singapore\n",
    "playlist_link = \"https://open.spotify.com/playlist/37i9dQZEVXbN66FupT0MuX?si=5d88481e6ae24f25\"\n",
    "playlist_URI2 = playlist_link.split(\"/\")[-1].split(\"?\")[0]\n",
    "track_uris2 = [x[\"track\"][\"uri\"] for x in sp.playlist_tracks(playlist_URI2)[\"items\"]]"
   ]
  },
  {
   "cell_type": "code",
   "execution_count": 19,
   "id": "16e731dc",
   "metadata": {
    "ExecuteTime": {
     "end_time": "2023-02-12T02:58:05.892908Z",
     "start_time": "2023-02-12T02:58:05.889065Z"
    }
   },
   "outputs": [],
   "source": [
    "track_uris = track_uris1+track_uris2"
   ]
  },
  {
   "cell_type": "markdown",
   "id": "9ac92142",
   "metadata": {},
   "source": [
    "Design the database and insert records?"
   ]
  },
  {
   "cell_type": "code",
   "execution_count": 37,
   "id": "fb59c271",
   "metadata": {
    "ExecuteTime": {
     "end_time": "2023-02-12T02:59:26.139111Z",
     "start_time": "2023-02-12T02:59:18.918038Z"
    }
   },
   "outputs": [],
   "source": [
    "i=0\n",
    "df = pd.DataFrame(columns=[\"track_uri\", \"track_name\", \"artist_uri\", \"artist_info\", \"artist_name\", \"artist_pop\", \"artist_genres\", \"album\", \"track_pop\"])\n",
    "for track in sp.playlist_tracks(playlist_URI1)[\"items\"] + sp.playlist_tracks(playlist_URI2)[\"items\"]:\n",
    "    #URI\n",
    "    track_uri = track[\"track\"][\"uri\"]\n",
    "    # print(json.dumps(track, indent=4))\n",
    "    # print(json.dumps(track[\"track\"], indent=4))\n",
    "    # print(json.dumps(track[\"track\"][\"uri\"], indent=4))\n",
    "    \n",
    "    #Track name\n",
    "    track_name = track[\"track\"][\"name\"]\n",
    "\n",
    "    \n",
    "    #Main Artist\n",
    "    artist_uri = track[\"track\"][\"artists\"][0][\"uri\"]\n",
    "    artist_info = sp.artist(artist_uri)\n",
    "    \n",
    "    #Name, popularity, genre\n",
    "    artist_name = track[\"track\"][\"artists\"][0][\"name\"]\n",
    "    artist_pop = artist_info[\"popularity\"]\n",
    "    artist_genres = artist_info[\"genres\"]\n",
    "    \n",
    "    #Album\n",
    "    album = track[\"track\"][\"album\"][\"name\"]\n",
    "    \n",
    "    #Popularity of the track\n",
    "    track_pop = track[\"track\"][\"popularity\"]\n",
    "    \n",
    "    df = pd.concat([pd.DataFrame([[track_uri, track_name, artist_uri, artist_info, artist_name, artist_pop, artist_genres, album, track_pop]], columns=df.columns), df], \n",
    "                   ignore_index=True)\n",
    "    i+=1"
   ]
  },
  {
   "cell_type": "code",
   "execution_count": 38,
   "id": "3a722faa",
   "metadata": {
    "ExecuteTime": {
     "end_time": "2023-02-12T02:59:28.116243Z",
     "start_time": "2023-02-12T02:59:28.107772Z"
    }
   },
   "outputs": [
    {
     "data": {
      "text/plain": [
       "100"
      ]
     },
     "execution_count": 38,
     "metadata": {},
     "output_type": "execute_result"
    }
   ],
   "source": [
    "i"
   ]
  },
  {
   "cell_type": "code",
   "execution_count": 40,
   "id": "3674c31c",
   "metadata": {},
   "outputs": [
    {
     "data": {
      "text/html": [
       "<div>\n",
       "<style scoped>\n",
       "    .dataframe tbody tr th:only-of-type {\n",
       "        vertical-align: middle;\n",
       "    }\n",
       "\n",
       "    .dataframe tbody tr th {\n",
       "        vertical-align: top;\n",
       "    }\n",
       "\n",
       "    .dataframe thead th {\n",
       "        text-align: right;\n",
       "    }\n",
       "</style>\n",
       "<table border=\"1\" class=\"dataframe\">\n",
       "  <thead>\n",
       "    <tr style=\"text-align: right;\">\n",
       "      <th></th>\n",
       "      <th>track_uri</th>\n",
       "      <th>track_name</th>\n",
       "      <th>artist_uri</th>\n",
       "      <th>artist_info</th>\n",
       "      <th>artist_name</th>\n",
       "      <th>artist_pop</th>\n",
       "      <th>artist_genres</th>\n",
       "      <th>album</th>\n",
       "      <th>track_pop</th>\n",
       "    </tr>\n",
       "  </thead>\n",
       "  <tbody>\n",
       "    <tr>\n",
       "      <th>0</th>\n",
       "      <td>spotify:track:70yszWsLJvNZuZwaHNMROf</td>\n",
       "      <td>PANDORA</td>\n",
       "      <td>spotify:artist:2ec7y2L98sHDYFylr7KqEx</td>\n",
       "      <td>{'external_urls': {'spotify': 'https://open.sp...</td>\n",
       "      <td>MAVE:</td>\n",
       "      <td>61</td>\n",
       "      <td>[]</td>\n",
       "      <td>PANDORA'S BOX</td>\n",
       "      <td>73</td>\n",
       "    </tr>\n",
       "    <tr>\n",
       "      <th>1</th>\n",
       "      <td>spotify:track:6VhuP99TE6gYNQRJIlAWFD</td>\n",
       "      <td>Until I Found You</td>\n",
       "      <td>spotify:artist:5XKFrudbV4IiuE5WuTPRmT</td>\n",
       "      <td>{'external_urls': {'spotify': 'https://open.sp...</td>\n",
       "      <td>Stephen Sanchez</td>\n",
       "      <td>82</td>\n",
       "      <td>[gen z singer-songwriter, pop]</td>\n",
       "      <td>Easy On My Eyes</td>\n",
       "      <td>77</td>\n",
       "    </tr>\n",
       "    <tr>\n",
       "      <th>2</th>\n",
       "      <td>spotify:track:0QzuaeCEEOV40Pn7IvKEny</td>\n",
       "      <td>double take</td>\n",
       "      <td>spotify:artist:70NcAr4ZtA3FAqU16iQZSb</td>\n",
       "      <td>{'external_urls': {'spotify': 'https://open.sp...</td>\n",
       "      <td>dhruv</td>\n",
       "      <td>71</td>\n",
       "      <td>[chill r&amp;b, nyc pop, pop]</td>\n",
       "      <td>rapunzel</td>\n",
       "      <td>79</td>\n",
       "    </tr>\n",
       "    <tr>\n",
       "      <th>3</th>\n",
       "      <td>spotify:track:2GAhgAjOhEmItWLfgisyOn</td>\n",
       "      <td>Low</td>\n",
       "      <td>spotify:artist:7tYKF4w9nC0nq9CsPZTHyP</td>\n",
       "      <td>{'external_urls': {'spotify': 'https://open.sp...</td>\n",
       "      <td>SZA</td>\n",
       "      <td>96</td>\n",
       "      <td>[pop, r&amp;b]</td>\n",
       "      <td>SOS</td>\n",
       "      <td>86</td>\n",
       "    </tr>\n",
       "    <tr>\n",
       "      <th>4</th>\n",
       "      <td>spotify:track:6XBL9naPxZjATbmGAWGJ9V</td>\n",
       "      <td>飞鸟和蝉</td>\n",
       "      <td>spotify:artist:6f4srX54JFrLNK4aTJe2Sc</td>\n",
       "      <td>{'external_urls': {'spotify': 'https://open.sp...</td>\n",
       "      <td>Ren Ran</td>\n",
       "      <td>63</td>\n",
       "      <td>[mainland chinese pop, mandopop]</td>\n",
       "      <td>Ren然</td>\n",
       "      <td>63</td>\n",
       "    </tr>\n",
       "  </tbody>\n",
       "</table>\n",
       "</div>"
      ],
      "text/plain": [
       "                              track_uri         track_name  \\\n",
       "0  spotify:track:70yszWsLJvNZuZwaHNMROf            PANDORA   \n",
       "1  spotify:track:6VhuP99TE6gYNQRJIlAWFD  Until I Found You   \n",
       "2  spotify:track:0QzuaeCEEOV40Pn7IvKEny        double take   \n",
       "3  spotify:track:2GAhgAjOhEmItWLfgisyOn                Low   \n",
       "4  spotify:track:6XBL9naPxZjATbmGAWGJ9V               飞鸟和蝉   \n",
       "\n",
       "                              artist_uri  \\\n",
       "0  spotify:artist:2ec7y2L98sHDYFylr7KqEx   \n",
       "1  spotify:artist:5XKFrudbV4IiuE5WuTPRmT   \n",
       "2  spotify:artist:70NcAr4ZtA3FAqU16iQZSb   \n",
       "3  spotify:artist:7tYKF4w9nC0nq9CsPZTHyP   \n",
       "4  spotify:artist:6f4srX54JFrLNK4aTJe2Sc   \n",
       "\n",
       "                                         artist_info      artist_name  \\\n",
       "0  {'external_urls': {'spotify': 'https://open.sp...            MAVE:   \n",
       "1  {'external_urls': {'spotify': 'https://open.sp...  Stephen Sanchez   \n",
       "2  {'external_urls': {'spotify': 'https://open.sp...            dhruv   \n",
       "3  {'external_urls': {'spotify': 'https://open.sp...              SZA   \n",
       "4  {'external_urls': {'spotify': 'https://open.sp...          Ren Ran   \n",
       "\n",
       "  artist_pop                     artist_genres            album track_pop  \n",
       "0         61                                []    PANDORA'S BOX        73  \n",
       "1         82    [gen z singer-songwriter, pop]  Easy On My Eyes        77  \n",
       "2         71         [chill r&b, nyc pop, pop]         rapunzel        79  \n",
       "3         96                        [pop, r&b]              SOS        86  \n",
       "4         63  [mainland chinese pop, mandopop]             Ren然        63  "
      ]
     },
     "execution_count": 40,
     "metadata": {},
     "output_type": "execute_result"
    }
   ],
   "source": [
    "df.head()"
   ]
  },
  {
   "cell_type": "code",
   "execution_count": 41,
   "id": "e0979755",
   "metadata": {
    "ExecuteTime": {
     "end_time": "2023-02-12T02:55:47.342226Z",
     "start_time": "2023-02-12T02:55:47.273254Z"
    }
   },
   "outputs": [
    {
     "data": {
      "text/plain": [
       "[{'danceability': 0.644,\n",
       "  'energy': 0.945,\n",
       "  'key': 9,\n",
       "  'loudness': -2.436,\n",
       "  'mode': 1,\n",
       "  'speechiness': 0.123,\n",
       "  'acousticness': 0.0204,\n",
       "  'instrumentalness': 0.000133,\n",
       "  'liveness': 0.328,\n",
       "  'valence': 0.759,\n",
       "  'tempo': 149.986,\n",
       "  'type': 'audio_features',\n",
       "  'id': '70yszWsLJvNZuZwaHNMROf',\n",
       "  'uri': 'spotify:track:70yszWsLJvNZuZwaHNMROf',\n",
       "  'track_href': 'https://api.spotify.com/v1/tracks/70yszWsLJvNZuZwaHNMROf',\n",
       "  'analysis_url': 'https://api.spotify.com/v1/audio-analysis/70yszWsLJvNZuZwaHNMROf',\n",
       "  'duration_ms': 196827,\n",
       "  'time_signature': 4}]"
      ]
     },
     "execution_count": 41,
     "metadata": {},
     "output_type": "execute_result"
    }
   ],
   "source": [
    "sp.audio_features(track_uri)"
   ]
  },
  {
   "cell_type": "code",
   "execution_count": null,
   "id": "97ceb2ea",
   "metadata": {},
   "outputs": [],
   "source": []
  }
 ],
 "metadata": {
  "kernelspec": {
   "display_name": "Python 3 (ipykernel)",
   "language": "python",
   "name": "python3"
  },
  "language_info": {
   "codemirror_mode": {
    "name": "ipython",
    "version": 3
   },
   "file_extension": ".py",
   "mimetype": "text/x-python",
   "name": "python",
   "nbconvert_exporter": "python",
   "pygments_lexer": "ipython3",
   "version": "3.9.16"
  },
  "toc": {
   "base_numbering": 1,
   "nav_menu": {},
   "number_sections": true,
   "sideBar": true,
   "skip_h1_title": false,
   "title_cell": "Table of Contents",
   "title_sidebar": "Contents",
   "toc_cell": false,
   "toc_position": {},
   "toc_section_display": true,
   "toc_window_display": false
  },
  "varInspector": {
   "cols": {
    "lenName": 16,
    "lenType": 16,
    "lenVar": 40
   },
   "kernels_config": {
    "python": {
     "delete_cmd_postfix": "",
     "delete_cmd_prefix": "del ",
     "library": "var_list.py",
     "varRefreshCmd": "print(var_dic_list())"
    },
    "r": {
     "delete_cmd_postfix": ") ",
     "delete_cmd_prefix": "rm(",
     "library": "var_list.r",
     "varRefreshCmd": "cat(var_dic_list()) "
    }
   },
   "types_to_exclude": [
    "module",
    "function",
    "builtin_function_or_method",
    "instance",
    "_Feature"
   ],
   "window_display": false
  }
 },
 "nbformat": 4,
 "nbformat_minor": 5
}
