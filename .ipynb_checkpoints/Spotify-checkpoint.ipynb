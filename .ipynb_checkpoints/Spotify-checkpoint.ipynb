{
 "cells": [
  {
   "cell_type": "code",
   "execution_count": 8,
   "id": "4677d44b",
   "metadata": {
    "ExecuteTime": {
     "end_time": "2023-02-09T06:34:40.164209Z",
     "start_time": "2023-02-09T06:34:40.098931Z"
    }
   },
   "outputs": [],
   "source": [
    "import numpy as np\n",
    "import pandas as pd\n",
    "import matplotlib.pyplot as plt\n",
    "import seaborn as sns"
   ]
  },
  {
   "cell_type": "code",
   "execution_count": 2,
   "id": "8fcc00b4",
   "metadata": {
    "ExecuteTime": {
     "end_time": "2023-02-12T02:02:32.713566Z",
     "start_time": "2023-02-12T02:02:29.772223Z"
    }
   },
   "outputs": [
    {
     "name": "stdout",
     "output_type": "stream",
     "text": [
      "Collecting spotipy\n",
      "  Downloading spotipy-2.22.1-py3-none-any.whl (28 kB)\n",
      "Requirement already satisfied: requests>=2.25.0 in /Users/yco/opt/anaconda3/envs/IS3107/lib/python3.9/site-packages (from spotipy) (2.28.2)\n",
      "Collecting redis>=3.5.3\n",
      "  Downloading redis-4.5.1-py3-none-any.whl (238 kB)\n",
      "\u001b[2K     \u001b[90m━━━━━━━━━━━━━━━━━━━━━━━━━━━━━━━━━━━━━━━\u001b[0m \u001b[32m238.5/238.5 kB\u001b[0m \u001b[31m3.9 MB/s\u001b[0m eta \u001b[36m0:00:00\u001b[0m00:01\u001b[0m\n",
      "\u001b[?25hRequirement already satisfied: six>=1.15.0 in /Users/yco/opt/anaconda3/envs/IS3107/lib/python3.9/site-packages (from spotipy) (1.16.0)\n",
      "Requirement already satisfied: urllib3>=1.26.0 in /Users/yco/opt/anaconda3/envs/IS3107/lib/python3.9/site-packages (from spotipy) (1.26.14)\n",
      "Requirement already satisfied: async-timeout>=4.0.2 in /Users/yco/opt/anaconda3/envs/IS3107/lib/python3.9/site-packages (from redis>=3.5.3->spotipy) (4.0.2)\n",
      "Requirement already satisfied: charset-normalizer<4,>=2 in /Users/yco/opt/anaconda3/envs/IS3107/lib/python3.9/site-packages (from requests>=2.25.0->spotipy) (2.1.1)\n",
      "Requirement already satisfied: idna<4,>=2.5 in /Users/yco/opt/anaconda3/envs/IS3107/lib/python3.9/site-packages (from requests>=2.25.0->spotipy) (3.4)\n",
      "Requirement already satisfied: certifi>=2017.4.17 in /Users/yco/opt/anaconda3/envs/IS3107/lib/python3.9/site-packages (from requests>=2.25.0->spotipy) (2022.12.7)\n",
      "Installing collected packages: redis, spotipy\n",
      "Successfully installed redis-4.5.1 spotipy-2.22.1\n",
      "Note: you may need to restart the kernel to use updated packages.\n"
     ]
    }
   ],
   "source": [
    "pip install spotipy"
   ]
  },
  {
   "cell_type": "code",
   "execution_count": 18,
   "id": "6bb1f441",
   "metadata": {
    "ExecuteTime": {
     "end_time": "2023-02-12T02:17:18.151180Z",
     "start_time": "2023-02-12T02:17:18.145719Z"
    }
   },
   "outputs": [],
   "source": [
    "import spotipy\n",
    "from spotipy.oauth2 import SpotifyClientCredentials\n",
    "import requests\n",
    "from spotipy.oauth2 import SpotifyOAuth"
   ]
  },
  {
   "cell_type": "code",
   "execution_count": 20,
   "id": "51ec8a95",
   "metadata": {
    "ExecuteTime": {
     "end_time": "2023-02-12T02:28:20.571328Z",
     "start_time": "2023-02-12T02:28:20.520295Z"
    }
   },
   "outputs": [],
   "source": [
    "credentials = json.load(open('authorization.json'))\n",
    "client_id = credentials['client_id']\n",
    "client_secret = credentials['client_secret']\n",
    "\n",
    "playlist_index = 0\n",
    "\n",
    "playlists = json.load(open('playlist_like_dislike.json'))\n",
    "playlist_uri = playlists[playlist_index]['uri']\n",
    "like = playlists[playlist_index]['like']"
   ]
  },
  {
   "cell_type": "code",
   "execution_count": 21,
   "id": "192c9877",
   "metadata": {
    "ExecuteTime": {
     "end_time": "2023-02-12T02:28:35.776564Z",
     "start_time": "2023-02-12T02:28:35.701945Z"
    }
   },
   "outputs": [],
   "source": [
    "client_credentials_manager = SpotifyClientCredentials(client_id=client_id,client_secret=client_secret)\n",
    "\n",
    "sp = spotipy.Spotify(client_credentials_manager=client_credentials_manager)"
   ]
  },
  {
   "cell_type": "code",
   "execution_count": 24,
   "id": "9eec8ed6",
   "metadata": {
    "ExecuteTime": {
     "end_time": "2023-02-12T02:30:08.033029Z",
     "start_time": "2023-02-12T02:30:08.017940Z"
    }
   },
   "outputs": [
    {
     "data": {
      "text/plain": [
       "<spotipy.client.Spotify at 0x7f83eeb20910>"
      ]
     },
     "execution_count": 24,
     "metadata": {},
     "output_type": "execute_result"
    }
   ],
   "source": [
    "sp"
   ]
  },
  {
   "cell_type": "code",
   "execution_count": 44,
   "id": "7d698477",
   "metadata": {
    "ExecuteTime": {
     "end_time": "2023-02-12T02:58:03.867662Z",
     "start_time": "2023-02-12T02:58:03.501511Z"
    }
   },
   "outputs": [],
   "source": [
    "playlist_link = \"https://open.spotify.com/playlist/37i9dQZEVXbNG2KDcFcKOF?si=1333723a6eff4b7f\"\n",
    "playlist_URI1 = playlist_link.split(\"/\")[-1].split(\"?\")[0]\n",
    "track_uris1 = [x[\"track\"][\"uri\"] for x in sp.playlist_tracks(playlist_URI)[\"items\"]]"
   ]
  },
  {
   "cell_type": "code",
   "execution_count": 45,
   "id": "8f3e5acd",
   "metadata": {
    "ExecuteTime": {
     "end_time": "2023-02-12T02:58:04.942806Z",
     "start_time": "2023-02-12T02:58:04.666931Z"
    }
   },
   "outputs": [],
   "source": [
    "playlist_link = \"https://open.spotify.com/playlist/37i9dQZEVXbN66FupT0MuX?si=5d88481e6ae24f25\"\n",
    "playlist_URI2 = playlist_link.split(\"/\")[-1].split(\"?\")[0]\n",
    "track_uris2 = [x[\"track\"][\"uri\"] for x in sp.playlist_tracks(playlist_URI)[\"items\"]]"
   ]
  },
  {
   "cell_type": "code",
   "execution_count": 46,
   "id": "16e731dc",
   "metadata": {
    "ExecuteTime": {
     "end_time": "2023-02-12T02:58:05.892908Z",
     "start_time": "2023-02-12T02:58:05.889065Z"
    }
   },
   "outputs": [],
   "source": [
    "track_uris = track_uris1+track_uris2"
   ]
  },
  {
   "cell_type": "code",
   "execution_count": 50,
   "id": "fb59c271",
   "metadata": {
    "ExecuteTime": {
     "end_time": "2023-02-12T02:59:26.139111Z",
     "start_time": "2023-02-12T02:59:18.918038Z"
    }
   },
   "outputs": [],
   "source": [
    "i=0\n",
    "for track in sp.playlist_tracks(playlist_URI1)[\"items\"] + sp.playlist_tracks(playlist_URI2)[\"items\"]:\n",
    "    #URI\n",
    "    track_uri = track[\"track\"][\"uri\"]\n",
    "    \n",
    "    #Track name\n",
    "    track_name = track[\"track\"][\"name\"]\n",
    "    i +=1\n",
    "\n",
    "    \n",
    "    #Main Artist\n",
    "    artist_uri = track[\"track\"][\"artists\"][0][\"uri\"]\n",
    "    artist_info = sp.artist(artist_uri)\n",
    "    \n",
    "    #Name, popularity, genre\n",
    "    artist_name = track[\"track\"][\"artists\"][0][\"name\"]\n",
    "    artist_pop = artist_info[\"popularity\"]\n",
    "    artist_genres = artist_info[\"genres\"]\n",
    "    \n",
    "    #Album\n",
    "    album = track[\"track\"][\"album\"][\"name\"]\n",
    "    \n",
    "    #Popularity of the track\n",
    "    track_pop = track[\"track\"][\"popularity\"]"
   ]
  },
  {
   "cell_type": "code",
   "execution_count": 51,
   "id": "3a722faa",
   "metadata": {
    "ExecuteTime": {
     "end_time": "2023-02-12T02:59:28.116243Z",
     "start_time": "2023-02-12T02:59:28.107772Z"
    }
   },
   "outputs": [
    {
     "data": {
      "text/plain": [
       "100"
      ]
     },
     "execution_count": 51,
     "metadata": {},
     "output_type": "execute_result"
    }
   ],
   "source": [
    "i"
   ]
  },
  {
   "cell_type": "code",
   "execution_count": 40,
   "id": "e0979755",
   "metadata": {
    "ExecuteTime": {
     "end_time": "2023-02-12T02:55:47.342226Z",
     "start_time": "2023-02-12T02:55:47.273254Z"
    }
   },
   "outputs": [
    {
     "data": {
      "text/plain": [
       "[{'danceability': 0.346,\n",
       "  'energy': 0.5,\n",
       "  'key': 10,\n",
       "  'loudness': -6.097,\n",
       "  'mode': 1,\n",
       "  'speechiness': 0.0388,\n",
       "  'acousticness': 0.757,\n",
       "  'instrumentalness': 0,\n",
       "  'liveness': 0.189,\n",
       "  'valence': 0.191,\n",
       "  'tempo': 202.466,\n",
       "  'type': 'audio_features',\n",
       "  'id': '6VhuP99TE6gYNQRJIlAWFD',\n",
       "  'uri': 'spotify:track:6VhuP99TE6gYNQRJIlAWFD',\n",
       "  'track_href': 'https://api.spotify.com/v1/tracks/6VhuP99TE6gYNQRJIlAWFD',\n",
       "  'analysis_url': 'https://api.spotify.com/v1/audio-analysis/6VhuP99TE6gYNQRJIlAWFD',\n",
       "  'duration_ms': 176667,\n",
       "  'time_signature': 3}]"
      ]
     },
     "execution_count": 40,
     "metadata": {},
     "output_type": "execute_result"
    }
   ],
   "source": [
    "sp.audio_features(track_uri)"
   ]
  }
 ],
 "metadata": {
  "kernelspec": {
   "display_name": "Python 3 (ipykernel)",
   "language": "python",
   "name": "python3"
  },
  "language_info": {
   "codemirror_mode": {
    "name": "ipython",
    "version": 3
   },
   "file_extension": ".py",
   "mimetype": "text/x-python",
   "name": "python",
   "nbconvert_exporter": "python",
   "pygments_lexer": "ipython3",
   "version": "3.9.16"
  },
  "toc": {
   "base_numbering": 1,
   "nav_menu": {},
   "number_sections": true,
   "sideBar": true,
   "skip_h1_title": false,
   "title_cell": "Table of Contents",
   "title_sidebar": "Contents",
   "toc_cell": false,
   "toc_position": {},
   "toc_section_display": true,
   "toc_window_display": false
  },
  "varInspector": {
   "cols": {
    "lenName": 16,
    "lenType": 16,
    "lenVar": 40
   },
   "kernels_config": {
    "python": {
     "delete_cmd_postfix": "",
     "delete_cmd_prefix": "del ",
     "library": "var_list.py",
     "varRefreshCmd": "print(var_dic_list())"
    },
    "r": {
     "delete_cmd_postfix": ") ",
     "delete_cmd_prefix": "rm(",
     "library": "var_list.r",
     "varRefreshCmd": "cat(var_dic_list()) "
    }
   },
   "types_to_exclude": [
    "module",
    "function",
    "builtin_function_or_method",
    "instance",
    "_Feature"
   ],
   "window_display": false
  }
 },
 "nbformat": 4,
 "nbformat_minor": 5
}
