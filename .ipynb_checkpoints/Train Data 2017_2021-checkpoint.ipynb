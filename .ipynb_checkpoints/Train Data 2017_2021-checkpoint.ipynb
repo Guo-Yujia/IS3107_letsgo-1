{
 "cells": [
  {
   "cell_type": "code",
   "execution_count": 1,
   "id": "8fd179a2",
   "metadata": {},
   "outputs": [],
   "source": [
    "import numpy as np\n",
    "import pandas as pd\n",
    "import matplotlib.pyplot as plt\n",
    "import seaborn as sns\n",
    "import json\n",
    "import spotipy\n",
    "from spotipy.oauth2 import SpotifyClientCredentials\n",
    "import requests\n",
    "from spotipy.oauth2 import SpotifyOAuth"
   ]
  },
  {
   "cell_type": "markdown",
   "id": "c06e5c71",
   "metadata": {},
   "source": [
    "### Chart Data Remove Duplicate & Output Ids"
   ]
  },
  {
   "cell_type": "code",
   "execution_count": 13,
   "id": "a3a16a39",
   "metadata": {},
   "outputs": [
    {
     "data": {
      "text/html": [
       "<div>\n",
       "<style scoped>\n",
       "    .dataframe tbody tr th:only-of-type {\n",
       "        vertical-align: middle;\n",
       "    }\n",
       "\n",
       "    .dataframe tbody tr th {\n",
       "        vertical-align: top;\n",
       "    }\n",
       "\n",
       "    .dataframe thead th {\n",
       "        text-align: right;\n",
       "    }\n",
       "</style>\n",
       "<table border=\"1\" class=\"dataframe\">\n",
       "  <thead>\n",
       "    <tr style=\"text-align: right;\">\n",
       "      <th></th>\n",
       "      <th>title</th>\n",
       "      <th>rank</th>\n",
       "      <th>date</th>\n",
       "      <th>artist</th>\n",
       "      <th>url</th>\n",
       "      <th>region</th>\n",
       "      <th>chart</th>\n",
       "      <th>trend</th>\n",
       "      <th>streams</th>\n",
       "    </tr>\n",
       "  </thead>\n",
       "  <tbody>\n",
       "    <tr>\n",
       "      <th>0</th>\n",
       "      <td>Chantaje (feat. Maluma)</td>\n",
       "      <td>1</td>\n",
       "      <td>2017-01-01</td>\n",
       "      <td>Shakira</td>\n",
       "      <td>https://open.spotify.com/track/6mICuAdrwEjh6Y6...</td>\n",
       "      <td>Argentina</td>\n",
       "      <td>top200</td>\n",
       "      <td>SAME_POSITION</td>\n",
       "      <td>253019.0</td>\n",
       "    </tr>\n",
       "    <tr>\n",
       "      <th>1</th>\n",
       "      <td>Vente Pa' Ca (feat. Maluma)</td>\n",
       "      <td>2</td>\n",
       "      <td>2017-01-01</td>\n",
       "      <td>Ricky Martin</td>\n",
       "      <td>https://open.spotify.com/track/7DM4BPaS7uofFul...</td>\n",
       "      <td>Argentina</td>\n",
       "      <td>top200</td>\n",
       "      <td>MOVE_UP</td>\n",
       "      <td>223988.0</td>\n",
       "    </tr>\n",
       "    <tr>\n",
       "      <th>2</th>\n",
       "      <td>Reggaetón Lento (Bailemos)</td>\n",
       "      <td>3</td>\n",
       "      <td>2017-01-01</td>\n",
       "      <td>CNCO</td>\n",
       "      <td>https://open.spotify.com/track/3AEZUABDXNtecAO...</td>\n",
       "      <td>Argentina</td>\n",
       "      <td>top200</td>\n",
       "      <td>MOVE_DOWN</td>\n",
       "      <td>210943.0</td>\n",
       "    </tr>\n",
       "    <tr>\n",
       "      <th>3</th>\n",
       "      <td>Safari</td>\n",
       "      <td>4</td>\n",
       "      <td>2017-01-01</td>\n",
       "      <td>J Balvin, Pharrell Williams, BIA, Sky</td>\n",
       "      <td>https://open.spotify.com/track/6rQSrBHf7HlZjtc...</td>\n",
       "      <td>Argentina</td>\n",
       "      <td>top200</td>\n",
       "      <td>SAME_POSITION</td>\n",
       "      <td>173865.0</td>\n",
       "    </tr>\n",
       "    <tr>\n",
       "      <th>4</th>\n",
       "      <td>Shaky Shaky</td>\n",
       "      <td>5</td>\n",
       "      <td>2017-01-01</td>\n",
       "      <td>Daddy Yankee</td>\n",
       "      <td>https://open.spotify.com/track/58IL315gMSTD37D...</td>\n",
       "      <td>Argentina</td>\n",
       "      <td>top200</td>\n",
       "      <td>MOVE_UP</td>\n",
       "      <td>153956.0</td>\n",
       "    </tr>\n",
       "    <tr>\n",
       "      <th>...</th>\n",
       "      <td>...</td>\n",
       "      <td>...</td>\n",
       "      <td>...</td>\n",
       "      <td>...</td>\n",
       "      <td>...</td>\n",
       "      <td>...</td>\n",
       "      <td>...</td>\n",
       "      <td>...</td>\n",
       "      <td>...</td>\n",
       "    </tr>\n",
       "    <tr>\n",
       "      <th>26173509</th>\n",
       "      <td>BYE</td>\n",
       "      <td>46</td>\n",
       "      <td>2021-07-31</td>\n",
       "      <td>Jaden</td>\n",
       "      <td>https://open.spotify.com/track/3OUyyDN7EZrL7i0...</td>\n",
       "      <td>Vietnam</td>\n",
       "      <td>viral50</td>\n",
       "      <td>MOVE_UP</td>\n",
       "      <td>NaN</td>\n",
       "    </tr>\n",
       "    <tr>\n",
       "      <th>26173510</th>\n",
       "      <td>Pillars</td>\n",
       "      <td>47</td>\n",
       "      <td>2021-07-31</td>\n",
       "      <td>My Anh</td>\n",
       "      <td>https://open.spotify.com/track/6eky30oFiQbHUAT...</td>\n",
       "      <td>Vietnam</td>\n",
       "      <td>viral50</td>\n",
       "      <td>NEW_ENTRY</td>\n",
       "      <td>NaN</td>\n",
       "    </tr>\n",
       "    <tr>\n",
       "      <th>26173511</th>\n",
       "      <td>Gái Độc Thân</td>\n",
       "      <td>48</td>\n",
       "      <td>2021-07-31</td>\n",
       "      <td>Tlinh</td>\n",
       "      <td>https://open.spotify.com/track/2klsSb2iTfgDh95...</td>\n",
       "      <td>Vietnam</td>\n",
       "      <td>viral50</td>\n",
       "      <td>MOVE_DOWN</td>\n",
       "      <td>NaN</td>\n",
       "    </tr>\n",
       "    <tr>\n",
       "      <th>26173512</th>\n",
       "      <td>Renegade (feat. Taylor Swift)</td>\n",
       "      <td>49</td>\n",
       "      <td>2021-07-31</td>\n",
       "      <td>Big Red Machine</td>\n",
       "      <td>https://open.spotify.com/track/1aU1wpYBSpP0M6I...</td>\n",
       "      <td>Vietnam</td>\n",
       "      <td>viral50</td>\n",
       "      <td>MOVE_DOWN</td>\n",
       "      <td>NaN</td>\n",
       "    </tr>\n",
       "    <tr>\n",
       "      <th>26173513</th>\n",
       "      <td>Letter to Jarad</td>\n",
       "      <td>50</td>\n",
       "      <td>2021-07-31</td>\n",
       "      <td>LRN Slime, Shiloh Dynasty</td>\n",
       "      <td>https://open.spotify.com/track/508QhA2SncMbh5C...</td>\n",
       "      <td>Vietnam</td>\n",
       "      <td>viral50</td>\n",
       "      <td>MOVE_DOWN</td>\n",
       "      <td>NaN</td>\n",
       "    </tr>\n",
       "  </tbody>\n",
       "</table>\n",
       "<p>26173514 rows × 9 columns</p>\n",
       "</div>"
      ],
      "text/plain": [
       "                                  title  rank        date  \\\n",
       "0               Chantaje (feat. Maluma)     1  2017-01-01   \n",
       "1           Vente Pa' Ca (feat. Maluma)     2  2017-01-01   \n",
       "2            Reggaetón Lento (Bailemos)     3  2017-01-01   \n",
       "3                                Safari     4  2017-01-01   \n",
       "4                           Shaky Shaky     5  2017-01-01   \n",
       "...                                 ...   ...         ...   \n",
       "26173509                            BYE    46  2021-07-31   \n",
       "26173510                        Pillars    47  2021-07-31   \n",
       "26173511                   Gái Độc Thân    48  2021-07-31   \n",
       "26173512  Renegade (feat. Taylor Swift)    49  2021-07-31   \n",
       "26173513                Letter to Jarad    50  2021-07-31   \n",
       "\n",
       "                                         artist  \\\n",
       "0                                       Shakira   \n",
       "1                                  Ricky Martin   \n",
       "2                                          CNCO   \n",
       "3         J Balvin, Pharrell Williams, BIA, Sky   \n",
       "4                                  Daddy Yankee   \n",
       "...                                         ...   \n",
       "26173509                                  Jaden   \n",
       "26173510                                 My Anh   \n",
       "26173511                                  Tlinh   \n",
       "26173512                        Big Red Machine   \n",
       "26173513              LRN Slime, Shiloh Dynasty   \n",
       "\n",
       "                                                        url     region  \\\n",
       "0         https://open.spotify.com/track/6mICuAdrwEjh6Y6...  Argentina   \n",
       "1         https://open.spotify.com/track/7DM4BPaS7uofFul...  Argentina   \n",
       "2         https://open.spotify.com/track/3AEZUABDXNtecAO...  Argentina   \n",
       "3         https://open.spotify.com/track/6rQSrBHf7HlZjtc...  Argentina   \n",
       "4         https://open.spotify.com/track/58IL315gMSTD37D...  Argentina   \n",
       "...                                                     ...        ...   \n",
       "26173509  https://open.spotify.com/track/3OUyyDN7EZrL7i0...    Vietnam   \n",
       "26173510  https://open.spotify.com/track/6eky30oFiQbHUAT...    Vietnam   \n",
       "26173511  https://open.spotify.com/track/2klsSb2iTfgDh95...    Vietnam   \n",
       "26173512  https://open.spotify.com/track/1aU1wpYBSpP0M6I...    Vietnam   \n",
       "26173513  https://open.spotify.com/track/508QhA2SncMbh5C...    Vietnam   \n",
       "\n",
       "            chart          trend   streams  \n",
       "0          top200  SAME_POSITION  253019.0  \n",
       "1          top200        MOVE_UP  223988.0  \n",
       "2          top200      MOVE_DOWN  210943.0  \n",
       "3          top200  SAME_POSITION  173865.0  \n",
       "4          top200        MOVE_UP  153956.0  \n",
       "...           ...            ...       ...  \n",
       "26173509  viral50        MOVE_UP       NaN  \n",
       "26173510  viral50      NEW_ENTRY       NaN  \n",
       "26173511  viral50      MOVE_DOWN       NaN  \n",
       "26173512  viral50      MOVE_DOWN       NaN  \n",
       "26173513  viral50      MOVE_DOWN       NaN  \n",
       "\n",
       "[26173514 rows x 9 columns]"
      ]
     },
     "execution_count": 13,
     "metadata": {},
     "output_type": "execute_result"
    }
   ],
   "source": [
    "data = pd.read_csv(\"charts.csv\")\n",
    "data"
   ]
  },
  {
   "cell_type": "code",
   "execution_count": 35,
   "id": "09cb2d9b",
   "metadata": {},
   "outputs": [
    {
     "data": {
      "text/html": [
       "<div>\n",
       "<style scoped>\n",
       "    .dataframe tbody tr th:only-of-type {\n",
       "        vertical-align: middle;\n",
       "    }\n",
       "\n",
       "    .dataframe tbody tr th {\n",
       "        vertical-align: top;\n",
       "    }\n",
       "\n",
       "    .dataframe thead th {\n",
       "        text-align: right;\n",
       "    }\n",
       "</style>\n",
       "<table border=\"1\" class=\"dataframe\">\n",
       "  <thead>\n",
       "    <tr style=\"text-align: right;\">\n",
       "      <th></th>\n",
       "      <th>title</th>\n",
       "      <th>rank</th>\n",
       "      <th>date</th>\n",
       "      <th>artist</th>\n",
       "      <th>url</th>\n",
       "      <th>region</th>\n",
       "      <th>chart</th>\n",
       "      <th>trend</th>\n",
       "      <th>streams</th>\n",
       "    </tr>\n",
       "  </thead>\n",
       "  <tbody>\n",
       "    <tr>\n",
       "      <th>0</th>\n",
       "      <td>Chantaje (feat. Maluma)</td>\n",
       "      <td>1</td>\n",
       "      <td>2017-01-01</td>\n",
       "      <td>Shakira</td>\n",
       "      <td>https://open.spotify.com/track/6mICuAdrwEjh6Y6...</td>\n",
       "      <td>Argentina</td>\n",
       "      <td>top200</td>\n",
       "      <td>SAME_POSITION</td>\n",
       "      <td>253019.0</td>\n",
       "    </tr>\n",
       "    <tr>\n",
       "      <th>1</th>\n",
       "      <td>Vente Pa' Ca (feat. Maluma)</td>\n",
       "      <td>2</td>\n",
       "      <td>2017-01-01</td>\n",
       "      <td>Ricky Martin</td>\n",
       "      <td>https://open.spotify.com/track/7DM4BPaS7uofFul...</td>\n",
       "      <td>Argentina</td>\n",
       "      <td>top200</td>\n",
       "      <td>MOVE_UP</td>\n",
       "      <td>223988.0</td>\n",
       "    </tr>\n",
       "    <tr>\n",
       "      <th>2</th>\n",
       "      <td>Reggaetón Lento (Bailemos)</td>\n",
       "      <td>3</td>\n",
       "      <td>2017-01-01</td>\n",
       "      <td>CNCO</td>\n",
       "      <td>https://open.spotify.com/track/3AEZUABDXNtecAO...</td>\n",
       "      <td>Argentina</td>\n",
       "      <td>top200</td>\n",
       "      <td>MOVE_DOWN</td>\n",
       "      <td>210943.0</td>\n",
       "    </tr>\n",
       "    <tr>\n",
       "      <th>3</th>\n",
       "      <td>Safari</td>\n",
       "      <td>4</td>\n",
       "      <td>2017-01-01</td>\n",
       "      <td>J Balvin, Pharrell Williams, BIA, Sky</td>\n",
       "      <td>https://open.spotify.com/track/6rQSrBHf7HlZjtc...</td>\n",
       "      <td>Argentina</td>\n",
       "      <td>top200</td>\n",
       "      <td>SAME_POSITION</td>\n",
       "      <td>173865.0</td>\n",
       "    </tr>\n",
       "    <tr>\n",
       "      <th>4</th>\n",
       "      <td>Shaky Shaky</td>\n",
       "      <td>5</td>\n",
       "      <td>2017-01-01</td>\n",
       "      <td>Daddy Yankee</td>\n",
       "      <td>https://open.spotify.com/track/58IL315gMSTD37D...</td>\n",
       "      <td>Argentina</td>\n",
       "      <td>top200</td>\n",
       "      <td>MOVE_UP</td>\n",
       "      <td>153956.0</td>\n",
       "    </tr>\n",
       "    <tr>\n",
       "      <th>...</th>\n",
       "      <td>...</td>\n",
       "      <td>...</td>\n",
       "      <td>...</td>\n",
       "      <td>...</td>\n",
       "      <td>...</td>\n",
       "      <td>...</td>\n",
       "      <td>...</td>\n",
       "      <td>...</td>\n",
       "      <td>...</td>\n",
       "    </tr>\n",
       "    <tr>\n",
       "      <th>164802</th>\n",
       "      <td>めちゃくちゃ</td>\n",
       "      <td>50</td>\n",
       "      <td>2021-07-27</td>\n",
       "      <td>vvpskvd.</td>\n",
       "      <td>https://open.spotify.com/track/0u0ipbfDa5uKTdG...</td>\n",
       "      <td>Ukraine</td>\n",
       "      <td>viral50</td>\n",
       "      <td>NEW_ENTRY</td>\n",
       "      <td>NaN</td>\n",
       "    </tr>\n",
       "    <tr>\n",
       "      <th>164803</th>\n",
       "      <td>Gris Atardecer</td>\n",
       "      <td>20</td>\n",
       "      <td>2021-07-28</td>\n",
       "      <td>Los Visitantes</td>\n",
       "      <td>https://open.spotify.com/track/5vsdlfsRw5SEayU...</td>\n",
       "      <td>Argentina</td>\n",
       "      <td>viral50</td>\n",
       "      <td>NEW_ENTRY</td>\n",
       "      <td>NaN</td>\n",
       "    </tr>\n",
       "    <tr>\n",
       "      <th>164804</th>\n",
       "      <td>Imparfait inconnu</td>\n",
       "      <td>28</td>\n",
       "      <td>2021-07-28</td>\n",
       "      <td>Adé</td>\n",
       "      <td>https://open.spotify.com/track/3W7x967esdawMwz...</td>\n",
       "      <td>France</td>\n",
       "      <td>viral50</td>\n",
       "      <td>NEW_ENTRY</td>\n",
       "      <td>NaN</td>\n",
       "    </tr>\n",
       "    <tr>\n",
       "      <th>164805</th>\n",
       "      <td>Still Holy (feat. Ryan Ofei &amp; Naomi Raine)</td>\n",
       "      <td>47</td>\n",
       "      <td>2021-07-28</td>\n",
       "      <td>Tribl, Maverick City Music</td>\n",
       "      <td>https://open.spotify.com/track/4Cw36mfQ1z4JnjF...</td>\n",
       "      <td>South Africa</td>\n",
       "      <td>viral50</td>\n",
       "      <td>NEW_ENTRY</td>\n",
       "      <td>NaN</td>\n",
       "    </tr>\n",
       "    <tr>\n",
       "      <th>164806</th>\n",
       "      <td>怎叹</td>\n",
       "      <td>48</td>\n",
       "      <td>2021-07-29</td>\n",
       "      <td>郑鱼</td>\n",
       "      <td>https://open.spotify.com/track/02jBlxoKmrSXrHE...</td>\n",
       "      <td>Singapore</td>\n",
       "      <td>viral50</td>\n",
       "      <td>NEW_ENTRY</td>\n",
       "      <td>NaN</td>\n",
       "    </tr>\n",
       "  </tbody>\n",
       "</table>\n",
       "<p>164807 rows × 9 columns</p>\n",
       "</div>"
      ],
      "text/plain": [
       "                                             title  rank        date  \\\n",
       "0                          Chantaje (feat. Maluma)     1  2017-01-01   \n",
       "1                      Vente Pa' Ca (feat. Maluma)     2  2017-01-01   \n",
       "2                       Reggaetón Lento (Bailemos)     3  2017-01-01   \n",
       "3                                           Safari     4  2017-01-01   \n",
       "4                                      Shaky Shaky     5  2017-01-01   \n",
       "...                                            ...   ...         ...   \n",
       "164802                                      めちゃくちゃ    50  2021-07-27   \n",
       "164803                              Gris Atardecer    20  2021-07-28   \n",
       "164804                           Imparfait inconnu    28  2021-07-28   \n",
       "164805  Still Holy (feat. Ryan Ofei & Naomi Raine)    47  2021-07-28   \n",
       "164806                                          怎叹    48  2021-07-29   \n",
       "\n",
       "                                       artist  \\\n",
       "0                                     Shakira   \n",
       "1                                Ricky Martin   \n",
       "2                                        CNCO   \n",
       "3       J Balvin, Pharrell Williams, BIA, Sky   \n",
       "4                                Daddy Yankee   \n",
       "...                                       ...   \n",
       "164802                               vvpskvd.   \n",
       "164803                         Los Visitantes   \n",
       "164804                                    Adé   \n",
       "164805             Tribl, Maverick City Music   \n",
       "164806                                     郑鱼   \n",
       "\n",
       "                                                      url        region  \\\n",
       "0       https://open.spotify.com/track/6mICuAdrwEjh6Y6...     Argentina   \n",
       "1       https://open.spotify.com/track/7DM4BPaS7uofFul...     Argentina   \n",
       "2       https://open.spotify.com/track/3AEZUABDXNtecAO...     Argentina   \n",
       "3       https://open.spotify.com/track/6rQSrBHf7HlZjtc...     Argentina   \n",
       "4       https://open.spotify.com/track/58IL315gMSTD37D...     Argentina   \n",
       "...                                                   ...           ...   \n",
       "164802  https://open.spotify.com/track/0u0ipbfDa5uKTdG...       Ukraine   \n",
       "164803  https://open.spotify.com/track/5vsdlfsRw5SEayU...     Argentina   \n",
       "164804  https://open.spotify.com/track/3W7x967esdawMwz...        France   \n",
       "164805  https://open.spotify.com/track/4Cw36mfQ1z4JnjF...  South Africa   \n",
       "164806  https://open.spotify.com/track/02jBlxoKmrSXrHE...     Singapore   \n",
       "\n",
       "          chart          trend   streams  \n",
       "0        top200  SAME_POSITION  253019.0  \n",
       "1        top200        MOVE_UP  223988.0  \n",
       "2        top200      MOVE_DOWN  210943.0  \n",
       "3        top200  SAME_POSITION  173865.0  \n",
       "4        top200        MOVE_UP  153956.0  \n",
       "...         ...            ...       ...  \n",
       "164802  viral50      NEW_ENTRY       NaN  \n",
       "164803  viral50      NEW_ENTRY       NaN  \n",
       "164804  viral50      NEW_ENTRY       NaN  \n",
       "164805  viral50      NEW_ENTRY       NaN  \n",
       "164806  viral50      NEW_ENTRY       NaN  \n",
       "\n",
       "[164807 rows x 9 columns]"
      ]
     },
     "execution_count": 35,
     "metadata": {},
     "output_type": "execute_result"
    }
   ],
   "source": [
    "songs = data.drop_duplicates(subset=['title'])\n",
    "songs.reset_index(inplace=True, drop=True)\n",
    "songs"
   ]
  },
  {
   "cell_type": "code",
   "execution_count": 36,
   "id": "f631b42d",
   "metadata": {},
   "outputs": [
    {
     "data": {
      "text/plain": [
       "['title',\n",
       " 'rank',\n",
       " 'date',\n",
       " 'artist',\n",
       " 'url',\n",
       " 'region',\n",
       " 'chart',\n",
       " 'trend',\n",
       " 'streams']"
      ]
     },
     "execution_count": 36,
     "metadata": {},
     "output_type": "execute_result"
    }
   ],
   "source": [
    "list(songs.columns)"
   ]
  },
  {
   "cell_type": "code",
   "execution_count": 38,
   "id": "aaadccd7",
   "metadata": {},
   "outputs": [
    {
     "name": "stderr",
     "output_type": "stream",
     "text": [
      "C:\\Users\\12560\\AppData\\Local\\Temp\\ipykernel_5496\\2122764647.py:1: SettingWithCopyWarning: \n",
      "A value is trying to be set on a copy of a slice from a DataFrame.\n",
      "Try using .loc[row_indexer,col_indexer] = value instead\n",
      "\n",
      "See the caveats in the documentation: https://pandas.pydata.org/pandas-docs/stable/user_guide/indexing.html#returning-a-view-versus-a-copy\n",
      "  songs['date_formatted'] = pd.to_datetime(songs['date'], format=\"%Y-%m-%d\")\n",
      "C:\\Users\\12560\\AppData\\Local\\Temp\\ipykernel_5496\\2122764647.py:2: SettingWithCopyWarning: \n",
      "A value is trying to be set on a copy of a slice from a DataFrame.\n",
      "Try using .loc[row_indexer,col_indexer] = value instead\n",
      "\n",
      "See the caveats in the documentation: https://pandas.pydata.org/pandas-docs/stable/user_guide/indexing.html#returning-a-view-versus-a-copy\n",
      "  songs['year'] = songs['date_formatted'].dt.year\n"
     ]
    },
    {
     "data": {
      "text/html": [
       "<div>\n",
       "<style scoped>\n",
       "    .dataframe tbody tr th:only-of-type {\n",
       "        vertical-align: middle;\n",
       "    }\n",
       "\n",
       "    .dataframe tbody tr th {\n",
       "        vertical-align: top;\n",
       "    }\n",
       "\n",
       "    .dataframe thead th {\n",
       "        text-align: right;\n",
       "    }\n",
       "</style>\n",
       "<table border=\"1\" class=\"dataframe\">\n",
       "  <thead>\n",
       "    <tr style=\"text-align: right;\">\n",
       "      <th></th>\n",
       "      <th>title</th>\n",
       "      <th>rank</th>\n",
       "      <th>date</th>\n",
       "      <th>artist</th>\n",
       "      <th>url</th>\n",
       "      <th>region</th>\n",
       "      <th>chart</th>\n",
       "      <th>trend</th>\n",
       "      <th>streams</th>\n",
       "      <th>date_formatted</th>\n",
       "      <th>year</th>\n",
       "    </tr>\n",
       "  </thead>\n",
       "  <tbody>\n",
       "    <tr>\n",
       "      <th>0</th>\n",
       "      <td>Chantaje (feat. Maluma)</td>\n",
       "      <td>1</td>\n",
       "      <td>2017-01-01</td>\n",
       "      <td>Shakira</td>\n",
       "      <td>https://open.spotify.com/track/6mICuAdrwEjh6Y6...</td>\n",
       "      <td>Argentina</td>\n",
       "      <td>top200</td>\n",
       "      <td>SAME_POSITION</td>\n",
       "      <td>253019.0</td>\n",
       "      <td>2017-01-01</td>\n",
       "      <td>2017</td>\n",
       "    </tr>\n",
       "    <tr>\n",
       "      <th>1</th>\n",
       "      <td>Vente Pa' Ca (feat. Maluma)</td>\n",
       "      <td>2</td>\n",
       "      <td>2017-01-01</td>\n",
       "      <td>Ricky Martin</td>\n",
       "      <td>https://open.spotify.com/track/7DM4BPaS7uofFul...</td>\n",
       "      <td>Argentina</td>\n",
       "      <td>top200</td>\n",
       "      <td>MOVE_UP</td>\n",
       "      <td>223988.0</td>\n",
       "      <td>2017-01-01</td>\n",
       "      <td>2017</td>\n",
       "    </tr>\n",
       "    <tr>\n",
       "      <th>2</th>\n",
       "      <td>Reggaetón Lento (Bailemos)</td>\n",
       "      <td>3</td>\n",
       "      <td>2017-01-01</td>\n",
       "      <td>CNCO</td>\n",
       "      <td>https://open.spotify.com/track/3AEZUABDXNtecAO...</td>\n",
       "      <td>Argentina</td>\n",
       "      <td>top200</td>\n",
       "      <td>MOVE_DOWN</td>\n",
       "      <td>210943.0</td>\n",
       "      <td>2017-01-01</td>\n",
       "      <td>2017</td>\n",
       "    </tr>\n",
       "    <tr>\n",
       "      <th>3</th>\n",
       "      <td>Safari</td>\n",
       "      <td>4</td>\n",
       "      <td>2017-01-01</td>\n",
       "      <td>J Balvin, Pharrell Williams, BIA, Sky</td>\n",
       "      <td>https://open.spotify.com/track/6rQSrBHf7HlZjtc...</td>\n",
       "      <td>Argentina</td>\n",
       "      <td>top200</td>\n",
       "      <td>SAME_POSITION</td>\n",
       "      <td>173865.0</td>\n",
       "      <td>2017-01-01</td>\n",
       "      <td>2017</td>\n",
       "    </tr>\n",
       "    <tr>\n",
       "      <th>4</th>\n",
       "      <td>Shaky Shaky</td>\n",
       "      <td>5</td>\n",
       "      <td>2017-01-01</td>\n",
       "      <td>Daddy Yankee</td>\n",
       "      <td>https://open.spotify.com/track/58IL315gMSTD37D...</td>\n",
       "      <td>Argentina</td>\n",
       "      <td>top200</td>\n",
       "      <td>MOVE_UP</td>\n",
       "      <td>153956.0</td>\n",
       "      <td>2017-01-01</td>\n",
       "      <td>2017</td>\n",
       "    </tr>\n",
       "    <tr>\n",
       "      <th>...</th>\n",
       "      <td>...</td>\n",
       "      <td>...</td>\n",
       "      <td>...</td>\n",
       "      <td>...</td>\n",
       "      <td>...</td>\n",
       "      <td>...</td>\n",
       "      <td>...</td>\n",
       "      <td>...</td>\n",
       "      <td>...</td>\n",
       "      <td>...</td>\n",
       "      <td>...</td>\n",
       "    </tr>\n",
       "    <tr>\n",
       "      <th>164802</th>\n",
       "      <td>めちゃくちゃ</td>\n",
       "      <td>50</td>\n",
       "      <td>2021-07-27</td>\n",
       "      <td>vvpskvd.</td>\n",
       "      <td>https://open.spotify.com/track/0u0ipbfDa5uKTdG...</td>\n",
       "      <td>Ukraine</td>\n",
       "      <td>viral50</td>\n",
       "      <td>NEW_ENTRY</td>\n",
       "      <td>NaN</td>\n",
       "      <td>2021-07-27</td>\n",
       "      <td>2021</td>\n",
       "    </tr>\n",
       "    <tr>\n",
       "      <th>164803</th>\n",
       "      <td>Gris Atardecer</td>\n",
       "      <td>20</td>\n",
       "      <td>2021-07-28</td>\n",
       "      <td>Los Visitantes</td>\n",
       "      <td>https://open.spotify.com/track/5vsdlfsRw5SEayU...</td>\n",
       "      <td>Argentina</td>\n",
       "      <td>viral50</td>\n",
       "      <td>NEW_ENTRY</td>\n",
       "      <td>NaN</td>\n",
       "      <td>2021-07-28</td>\n",
       "      <td>2021</td>\n",
       "    </tr>\n",
       "    <tr>\n",
       "      <th>164804</th>\n",
       "      <td>Imparfait inconnu</td>\n",
       "      <td>28</td>\n",
       "      <td>2021-07-28</td>\n",
       "      <td>Adé</td>\n",
       "      <td>https://open.spotify.com/track/3W7x967esdawMwz...</td>\n",
       "      <td>France</td>\n",
       "      <td>viral50</td>\n",
       "      <td>NEW_ENTRY</td>\n",
       "      <td>NaN</td>\n",
       "      <td>2021-07-28</td>\n",
       "      <td>2021</td>\n",
       "    </tr>\n",
       "    <tr>\n",
       "      <th>164805</th>\n",
       "      <td>Still Holy (feat. Ryan Ofei &amp; Naomi Raine)</td>\n",
       "      <td>47</td>\n",
       "      <td>2021-07-28</td>\n",
       "      <td>Tribl, Maverick City Music</td>\n",
       "      <td>https://open.spotify.com/track/4Cw36mfQ1z4JnjF...</td>\n",
       "      <td>South Africa</td>\n",
       "      <td>viral50</td>\n",
       "      <td>NEW_ENTRY</td>\n",
       "      <td>NaN</td>\n",
       "      <td>2021-07-28</td>\n",
       "      <td>2021</td>\n",
       "    </tr>\n",
       "    <tr>\n",
       "      <th>164806</th>\n",
       "      <td>怎叹</td>\n",
       "      <td>48</td>\n",
       "      <td>2021-07-29</td>\n",
       "      <td>郑鱼</td>\n",
       "      <td>https://open.spotify.com/track/02jBlxoKmrSXrHE...</td>\n",
       "      <td>Singapore</td>\n",
       "      <td>viral50</td>\n",
       "      <td>NEW_ENTRY</td>\n",
       "      <td>NaN</td>\n",
       "      <td>2021-07-29</td>\n",
       "      <td>2021</td>\n",
       "    </tr>\n",
       "  </tbody>\n",
       "</table>\n",
       "<p>164807 rows × 11 columns</p>\n",
       "</div>"
      ],
      "text/plain": [
       "                                             title  rank        date  \\\n",
       "0                          Chantaje (feat. Maluma)     1  2017-01-01   \n",
       "1                      Vente Pa' Ca (feat. Maluma)     2  2017-01-01   \n",
       "2                       Reggaetón Lento (Bailemos)     3  2017-01-01   \n",
       "3                                           Safari     4  2017-01-01   \n",
       "4                                      Shaky Shaky     5  2017-01-01   \n",
       "...                                            ...   ...         ...   \n",
       "164802                                      めちゃくちゃ    50  2021-07-27   \n",
       "164803                              Gris Atardecer    20  2021-07-28   \n",
       "164804                           Imparfait inconnu    28  2021-07-28   \n",
       "164805  Still Holy (feat. Ryan Ofei & Naomi Raine)    47  2021-07-28   \n",
       "164806                                          怎叹    48  2021-07-29   \n",
       "\n",
       "                                       artist  \\\n",
       "0                                     Shakira   \n",
       "1                                Ricky Martin   \n",
       "2                                        CNCO   \n",
       "3       J Balvin, Pharrell Williams, BIA, Sky   \n",
       "4                                Daddy Yankee   \n",
       "...                                       ...   \n",
       "164802                               vvpskvd.   \n",
       "164803                         Los Visitantes   \n",
       "164804                                    Adé   \n",
       "164805             Tribl, Maverick City Music   \n",
       "164806                                     郑鱼   \n",
       "\n",
       "                                                      url        region  \\\n",
       "0       https://open.spotify.com/track/6mICuAdrwEjh6Y6...     Argentina   \n",
       "1       https://open.spotify.com/track/7DM4BPaS7uofFul...     Argentina   \n",
       "2       https://open.spotify.com/track/3AEZUABDXNtecAO...     Argentina   \n",
       "3       https://open.spotify.com/track/6rQSrBHf7HlZjtc...     Argentina   \n",
       "4       https://open.spotify.com/track/58IL315gMSTD37D...     Argentina   \n",
       "...                                                   ...           ...   \n",
       "164802  https://open.spotify.com/track/0u0ipbfDa5uKTdG...       Ukraine   \n",
       "164803  https://open.spotify.com/track/5vsdlfsRw5SEayU...     Argentina   \n",
       "164804  https://open.spotify.com/track/3W7x967esdawMwz...        France   \n",
       "164805  https://open.spotify.com/track/4Cw36mfQ1z4JnjF...  South Africa   \n",
       "164806  https://open.spotify.com/track/02jBlxoKmrSXrHE...     Singapore   \n",
       "\n",
       "          chart          trend   streams date_formatted  year  \n",
       "0        top200  SAME_POSITION  253019.0     2017-01-01  2017  \n",
       "1        top200        MOVE_UP  223988.0     2017-01-01  2017  \n",
       "2        top200      MOVE_DOWN  210943.0     2017-01-01  2017  \n",
       "3        top200  SAME_POSITION  173865.0     2017-01-01  2017  \n",
       "4        top200        MOVE_UP  153956.0     2017-01-01  2017  \n",
       "...         ...            ...       ...            ...   ...  \n",
       "164802  viral50      NEW_ENTRY       NaN     2021-07-27  2021  \n",
       "164803  viral50      NEW_ENTRY       NaN     2021-07-28  2021  \n",
       "164804  viral50      NEW_ENTRY       NaN     2021-07-28  2021  \n",
       "164805  viral50      NEW_ENTRY       NaN     2021-07-28  2021  \n",
       "164806  viral50      NEW_ENTRY       NaN     2021-07-29  2021  \n",
       "\n",
       "[164807 rows x 11 columns]"
      ]
     },
     "execution_count": 38,
     "metadata": {},
     "output_type": "execute_result"
    }
   ],
   "source": [
    "songs['date_formatted'] = pd.to_datetime(songs['date'], format=\"%Y-%m-%d\")\n",
    "songs['year'] = songs['date_formatted'].dt.year\n",
    "songs"
   ]
  },
  {
   "cell_type": "code",
   "execution_count": 60,
   "id": "e525e6f5",
   "metadata": {},
   "outputs": [],
   "source": [
    "for year in pd.unique(songs['year']):\n",
    "    url = songs[songs['year'] == year][['title','date_formatted','url']]\n",
    "    url.reset_index(inplace=True, drop=True)\n",
    "    url.to_csv('Songs URL {}.csv'.format(year), index=False)"
   ]
  },
  {
   "cell_type": "markdown",
   "id": "160c9f35",
   "metadata": {},
   "source": [
    "### Credential"
   ]
  },
  {
   "cell_type": "code",
   "execution_count": 2,
   "id": "0f698268",
   "metadata": {},
   "outputs": [],
   "source": [
    "credentials = json.load(open('authorization.json'))\n",
    "client_id = credentials['client_id']\n",
    "client_secret = credentials['client_secret']\n",
    "\n",
    "# playlist_index = 0\n",
    "\n",
    "# playlists = json.load(open('playlist_like_dislike.json'))\n",
    "# playlist_uri = playlists[playlist_index]['uri']\n",
    "# like = playlists[playlist_index]['like']"
   ]
  },
  {
   "cell_type": "code",
   "execution_count": 3,
   "id": "c75b98e4",
   "metadata": {},
   "outputs": [
    {
     "data": {
      "text/plain": [
       "<spotipy.client.Spotify at 0x247409add90>"
      ]
     },
     "execution_count": 3,
     "metadata": {},
     "output_type": "execute_result"
    }
   ],
   "source": [
    "client_credentials_manager = SpotifyClientCredentials(client_id=client_id,client_secret=client_secret)\n",
    "sp = spotipy.Spotify(client_credentials_manager=client_credentials_manager)\n",
    "sp"
   ]
  },
  {
   "cell_type": "markdown",
   "id": "c7001ab0",
   "metadata": {},
   "source": [
    "### Read URLs"
   ]
  },
  {
   "cell_type": "code",
   "execution_count": 4,
   "id": "c7506f80",
   "metadata": {},
   "outputs": [],
   "source": [
    "years = [2017, 2018, 2019, 2020, 2021]\n",
    "url_years = {}\n",
    "for year in years:\n",
    "    df = pd.read_csv(\"Songs URL {}.csv\".format(year))\n",
    "    df = pd.DataFrame(df)\n",
    "    df['id'] = df.apply(lambda x: x['url'].split(\"/\")[-1],axis=1)\n",
    "    url_years[year] = df"
   ]
  },
  {
   "cell_type": "markdown",
   "id": "8eb231a2",
   "metadata": {},
   "source": [
    "### 1. Tracks Information\n",
    "To avoid failure due to connection problems, etc. pull the data one year after one year"
   ]
  },
  {
   "cell_type": "markdown",
   "id": "e5b92f98",
   "metadata": {},
   "source": [
    "#### 2017"
   ]
  },
  {
   "cell_type": "code",
   "execution_count": 48,
   "id": "c9b652d7",
   "metadata": {},
   "outputs": [
    {
     "data": {
      "text/plain": [
       "40111"
      ]
     },
     "execution_count": 48,
     "metadata": {},
     "output_type": "execute_result"
    }
   ],
   "source": [
    "year = 2017\n",
    "url = url_years[year]\n",
    "len(url)"
   ]
  },
  {
   "cell_type": "code",
   "execution_count": 49,
   "id": "34ba049b",
   "metadata": {},
   "outputs": [],
   "source": [
    "tracks = []\n",
    "for i in range(0, len(url), 50):\n",
    "    try:\n",
    "        if (i+50) < len(url): \n",
    "            info = sp.tracks(list(url.iloc[i:(i+50)]['id']))['tracks']\n",
    "        else:\n",
    "            info = sp.tracks(list(url.iloc[i:]['id']))['tracks']\n",
    "    except:\n",
    "            client_credentials_manager = SpotifyClientCredentials(client_id=client_id,client_secret=client_secret)\n",
    "            sp = spotipy.Spotify(client_credentials_manager=client_credentials_manager, requests_timeout=5, retries=5)\n",
    "    finally:\n",
    "        if (i+50) < len(url): \n",
    "            info = sp.tracks(list(url.iloc[i:(i+50)]['id']))['tracks']\n",
    "        else:\n",
    "            info = sp.tracks(list(url.iloc[i:]['id']))['tracks']\n",
    "        tracks += info"
   ]
  },
  {
   "cell_type": "code",
   "execution_count": 50,
   "id": "62f52f7f",
   "metadata": {},
   "outputs": [
    {
     "name": "stdout",
     "output_type": "stream",
     "text": [
      "2017 done\n"
     ]
    }
   ],
   "source": [
    "tracks_df = pd.DataFrame(tracks)\n",
    "tracks_df.to_csv('tracks info {}.csv'.format(year))\n",
    "print('{} done'.format(year))"
   ]
  },
  {
   "cell_type": "markdown",
   "id": "75998383",
   "metadata": {},
   "source": [
    "#### 2018"
   ]
  },
  {
   "cell_type": "code",
   "execution_count": 5,
   "id": "00afc033",
   "metadata": {},
   "outputs": [
    {
     "data": {
      "text/plain": [
       "36596"
      ]
     },
     "execution_count": 5,
     "metadata": {},
     "output_type": "execute_result"
    }
   ],
   "source": [
    "year = 2018\n",
    "url = url_years[year]\n",
    "len(url)"
   ]
  },
  {
   "cell_type": "code",
   "execution_count": 6,
   "id": "de1f4e57",
   "metadata": {},
   "outputs": [],
   "source": [
    "tracks = []\n",
    "for i in range(0, 20000, 50):\n",
    "    try:\n",
    "        if (i+50) < 20000: \n",
    "            info = sp.tracks(list(url.iloc[i:(i+50)]['id']))['tracks']\n",
    "        else:\n",
    "            info = sp.tracks(list(url.iloc[i:]['id']))['tracks']\n",
    "    except:\n",
    "            client_credentials_manager = SpotifyClientCredentials(client_id=client_id,client_secret=client_secret)\n",
    "            sp = spotipy.Spotify(client_credentials_manager=client_credentials_manager, requests_timeout=5, retries=5)\n",
    "    finally:\n",
    "        if (i+50) < len(url): \n",
    "            info = sp.tracks(list(url.iloc[i:(i+50)]['id']))['tracks']\n",
    "        else:\n",
    "            info = sp.tracks(list(url.iloc[i:]['id']))['tracks']\n",
    "        tracks += info"
   ]
  },
  {
   "cell_type": "code",
   "execution_count": 8,
   "id": "c23a44bb",
   "metadata": {},
   "outputs": [],
   "source": [
    "for i in range(20000, len(url), 50):\n",
    "    try:\n",
    "        if (i+50) < len(url): \n",
    "            info = sp.tracks(list(url.iloc[i:(i+50)]['id']))['tracks']\n",
    "        else:\n",
    "            info = sp.tracks(list(url.iloc[i:]['id']))['tracks']\n",
    "    except:\n",
    "            client_credentials_manager = SpotifyClientCredentials(client_id=client_id,client_secret=client_secret)\n",
    "            sp = spotipy.Spotify(client_credentials_manager=client_credentials_manager, requests_timeout=5, retries=5)\n",
    "    finally:\n",
    "        if (i+50) < len(url): \n",
    "            info = sp.tracks(list(url.iloc[i:(i+50)]['id']))['tracks']\n",
    "        else:\n",
    "            info = sp.tracks(list(url.iloc[i:]['id']))['tracks']\n",
    "        tracks += info"
   ]
  },
  {
   "cell_type": "code",
   "execution_count": 9,
   "id": "b41e1511",
   "metadata": {},
   "outputs": [
    {
     "name": "stdout",
     "output_type": "stream",
     "text": [
      "2018 done\n"
     ]
    }
   ],
   "source": [
    "tracks_df = pd.DataFrame(tracks)\n",
    "tracks_df.to_csv('tracks info {}.csv'.format(year))\n",
    "print('{} done'.format(year))"
   ]
  },
  {
   "cell_type": "markdown",
   "id": "4aaf2b73",
   "metadata": {},
   "source": [
    "#### 2019"
   ]
  },
  {
   "cell_type": "code",
   "execution_count": 5,
   "id": "907e04dd",
   "metadata": {},
   "outputs": [
    {
     "data": {
      "text/plain": [
       "27658"
      ]
     },
     "execution_count": 5,
     "metadata": {},
     "output_type": "execute_result"
    }
   ],
   "source": [
    "year = 2019\n",
    "url = url_years[year]\n",
    "len(url)"
   ]
  },
  {
   "cell_type": "code",
   "execution_count": 8,
   "id": "2936ce8a",
   "metadata": {},
   "outputs": [],
   "source": [
    "tracks = []\n",
    "for i in range(0, len(url), 50):\n",
    "    try:\n",
    "        if (i+50) < len(url): \n",
    "            info = sp.tracks(list(url.iloc[i:(i+50)]['id']))['tracks']\n",
    "        else:\n",
    "            info = sp.tracks(list(url.iloc[i:]['id']))['tracks']\n",
    "    except:\n",
    "            client_credentials_manager = SpotifyClientCredentials(client_id=client_id,client_secret=client_secret)\n",
    "            sp = spotipy.Spotify(client_credentials_manager=client_credentials_manager, requests_timeout=5, retries=5)\n",
    "    finally:\n",
    "        if (i+50) < len(url): \n",
    "            info = sp.tracks(list(url.iloc[i:(i+50)]['id']))['tracks']\n",
    "        else:\n",
    "            info = sp.tracks(list(url.iloc[i:]['id']))['tracks']\n",
    "        tracks += info"
   ]
  },
  {
   "cell_type": "code",
   "execution_count": 9,
   "id": "82bc2a79",
   "metadata": {},
   "outputs": [
    {
     "name": "stdout",
     "output_type": "stream",
     "text": [
      "2019 done\n"
     ]
    }
   ],
   "source": [
    "tracks_df = pd.DataFrame(tracks)\n",
    "tracks_df.to_csv('tracks info {}.csv'.format(year))\n",
    "print('{} done'.format(year))"
   ]
  },
  {
   "cell_type": "markdown",
   "id": "53a55472",
   "metadata": {},
   "source": [
    "#### 2020"
   ]
  },
  {
   "cell_type": "code",
   "execution_count": 52,
   "id": "8b1705ae",
   "metadata": {},
   "outputs": [],
   "source": [
    "url_2020 = url_years[2020]\n",
    "tracks_info = []\n",
    "for i in range(0, 10000, 50):\n",
    "    if (i+50) < len(url_2020): \n",
    "        tracks_info += sp.tracks(list(url_2020.iloc[i:(i+50)]['id']))['tracks']\n",
    "    else:\n",
    "        tracks_info += sp.tracks(list(url_2020.iloc[i:]['id']))['tracks']"
   ]
  },
  {
   "cell_type": "code",
   "execution_count": 53,
   "id": "fd4e27a1",
   "metadata": {},
   "outputs": [],
   "source": [
    "pd.DataFrame(tracks_info).to_csv(\"sample_info.csv\")"
   ]
  },
  {
   "cell_type": "code",
   "execution_count": 56,
   "id": "9084f326",
   "metadata": {},
   "outputs": [],
   "source": [
    "tracks = []\n",
    "for i in range(0, len(url_2020), 50):\n",
    "    try:\n",
    "        if (i+50) < len(url_2020): \n",
    "            info = sp.tracks(list(url_2020.iloc[i:(i+50)]['id']))['tracks']\n",
    "        else:\n",
    "            info = sp.tracks(list(url_2020.iloc[i:]['id']))['tracks']\n",
    "    except:\n",
    "            client_credentials_manager = SpotifyClientCredentials(client_id=client_id,client_secret=client_secret)\n",
    "            sp = spotipy.Spotify(client_credentials_manager=client_credentials_manager, requests_timeout=5, retries=5)\n",
    "    finally:\n",
    "        if (i+50) < len(url_2020): \n",
    "            info = sp.tracks(list(url_2020.iloc[i:(i+50)]['id']))['tracks']\n",
    "        else:\n",
    "            info = sp.tracks(list(url_2020.iloc[i:]['id']))['tracks']\n",
    "        tracks += info"
   ]
  },
  {
   "cell_type": "code",
   "execution_count": 62,
   "id": "6e400df7",
   "metadata": {},
   "outputs": [],
   "source": [
    "tracks_df = pd.DataFrame(tracks)\n",
    "tracks_df.to_csv('tracks info 2020.csv')"
   ]
  },
  {
   "cell_type": "markdown",
   "id": "e7c646e7",
   "metadata": {},
   "source": [
    "#### 2021"
   ]
  },
  {
   "cell_type": "code",
   "execution_count": 51,
   "id": "cbf55048",
   "metadata": {},
   "outputs": [
    {
     "data": {
      "text/plain": [
       "28024"
      ]
     },
     "execution_count": 51,
     "metadata": {},
     "output_type": "execute_result"
    }
   ],
   "source": [
    "year = 2021\n",
    "url = url_years[year]\n",
    "len(url)"
   ]
  },
  {
   "cell_type": "code",
   "execution_count": 52,
   "id": "5d6f81eb",
   "metadata": {},
   "outputs": [],
   "source": [
    "tracks = []\n",
    "for i in range(0, len(url), 50):\n",
    "    try:\n",
    "        if (i+50) < len(url): \n",
    "            info = sp.tracks(list(url.iloc[i:(i+50)]['id']))['tracks']\n",
    "        else:\n",
    "            info = sp.tracks(list(url.iloc[i:]['id']))['tracks']\n",
    "    except:\n",
    "            client_credentials_manager = SpotifyClientCredentials(client_id=client_id,client_secret=client_secret)\n",
    "            sp = spotipy.Spotify(client_credentials_manager=client_credentials_manager, requests_timeout=5, retries=5)\n",
    "    finally:\n",
    "        if (i+50) < len(url): \n",
    "            info = sp.tracks(list(url.iloc[i:(i+50)]['id']))['tracks']\n",
    "        else:\n",
    "            info = sp.tracks(list(url.iloc[i:]['id']))['tracks']\n",
    "        tracks += info"
   ]
  },
  {
   "cell_type": "code",
   "execution_count": 53,
   "id": "4af8674b",
   "metadata": {},
   "outputs": [
    {
     "name": "stdout",
     "output_type": "stream",
     "text": [
      "2021 done\n"
     ]
    }
   ],
   "source": [
    "tracks_df = pd.DataFrame(tracks)\n",
    "tracks_df.to_csv('tracks info {}.csv'.format(year))\n",
    "print('{} done'.format(year))"
   ]
  },
  {
   "cell_type": "markdown",
   "id": "ab93601d",
   "metadata": {},
   "source": [
    "### 2. Audio Features"
   ]
  },
  {
   "cell_type": "code",
   "execution_count": 47,
   "id": "289a45b3",
   "metadata": {},
   "outputs": [
    {
     "name": "stdout",
     "output_type": "stream",
     "text": [
      "2017 done\n",
      "2018 done\n",
      "2019 done\n",
      "2020 done\n",
      "2021 done\n"
     ]
    }
   ],
   "source": [
    "for year in years:\n",
    "    url = url_years[year]\n",
    "    audio_feat=[]\n",
    "    for i in range(0, len(url), 100):\n",
    "        if (i+100) < len(url): \n",
    "            audio_feat += list(sp.audio_features(list(url.iloc[i:(i+100)]['id'])))\n",
    "        else:\n",
    "            audio_feat += list(sp.audio_features(list(url.iloc[i:]['id'])))\n",
    "    # Deal with None objects\n",
    "    audio_feat = list(filter(lambda x: x is not None, audio_feat))\n",
    "    audio_feat_df = pd.DataFrame(audio_feat)\n",
    "    audio_feat_df.to_csv('audio feat {}.csv'.format(year))\n",
    "    print(\"{} done\".format(year))"
   ]
  },
  {
   "cell_type": "markdown",
   "id": "0a7c2b90",
   "metadata": {},
   "source": [
    "### 3. Audio Analysis (1 by 1)"
   ]
  },
  {
   "cell_type": "code",
   "execution_count": 76,
   "id": "d0abafdf",
   "metadata": {},
   "outputs": [
    {
     "ename": "AttributeError",
     "evalue": "'NoneType' object has no attribute 'append'",
     "output_type": "error",
     "traceback": [
      "\u001b[1;31m---------------------------------------------------------------------------\u001b[0m",
      "\u001b[1;31mAttributeError\u001b[0m                            Traceback (most recent call last)",
      "Cell \u001b[1;32mIn[76], line 3\u001b[0m\n\u001b[0;32m      1\u001b[0m analysis \u001b[38;5;241m=\u001b[39m []\n\u001b[0;32m      2\u001b[0m \u001b[38;5;28;01mfor\u001b[39;00m i \u001b[38;5;129;01min\u001b[39;00m \u001b[38;5;28mrange\u001b[39m(\u001b[38;5;241m0\u001b[39m, \u001b[38;5;241m100\u001b[39m):\n\u001b[1;32m----> 3\u001b[0m     analysis \u001b[38;5;241m=\u001b[39m \u001b[43manalysis\u001b[49m\u001b[38;5;241;43m.\u001b[39;49m\u001b[43mappend\u001b[49m([sp\u001b[38;5;241m.\u001b[39maudio_analysis(songs\u001b[38;5;241m.\u001b[39miloc[i][\u001b[38;5;124m'\u001b[39m\u001b[38;5;124mid\u001b[39m\u001b[38;5;124m'\u001b[39m])])\n",
      "\u001b[1;31mAttributeError\u001b[0m: 'NoneType' object has no attribute 'append'"
     ]
    }
   ],
   "source": [
    "analysis = []\n",
    "for i in range(0, 100):\n",
    "    analysis = analysis.append(sp.audio_analysis(url_2020.iloc[i]['id']))"
   ]
  },
  {
   "cell_type": "code",
   "execution_count": 74,
   "id": "9efaf20d",
   "metadata": {},
   "outputs": [
    {
     "data": {
      "text/plain": [
       "{'analyzer_version': '4.0.0',\n",
       " 'platform': 'Linux',\n",
       " 'detailed_status': 'OK',\n",
       " 'status_code': 0,\n",
       " 'timestamp': 1571735462,\n",
       " 'analysis_time': 5.48492,\n",
       " 'input_process': 'libvorbisfile L+R 44100->22050'}"
      ]
     },
     "execution_count": 74,
     "metadata": {},
     "output_type": "execute_result"
    }
   ],
   "source": [
    "sp.audio_analysis(url_2020.loc[0,'id'])['meta']"
   ]
  },
  {
   "cell_type": "code",
   "execution_count": null,
   "id": "8037403f",
   "metadata": {},
   "outputs": [],
   "source": []
  },
  {
   "cell_type": "code",
   "execution_count": null,
   "id": "52fb8c47",
   "metadata": {},
   "outputs": [],
   "source": []
  },
  {
   "cell_type": "code",
   "execution_count": null,
   "id": "69d25e6c",
   "metadata": {},
   "outputs": [],
   "source": []
  }
 ],
 "metadata": {
  "kernelspec": {
   "display_name": "Python 3 (ipykernel)",
   "language": "python",
   "name": "python3"
  },
  "language_info": {
   "codemirror_mode": {
    "name": "ipython",
    "version": 3
   },
   "file_extension": ".py",
   "mimetype": "text/x-python",
   "name": "python",
   "nbconvert_exporter": "python",
   "pygments_lexer": "ipython3",
   "version": "3.9.16"
  }
 },
 "nbformat": 4,
 "nbformat_minor": 5
}
